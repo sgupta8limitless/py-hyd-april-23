{
 "cells": [
  {
   "cell_type": "code",
   "execution_count": 6,
   "metadata": {},
   "outputs": [
    {
     "ename": "KeyError",
     "evalue": "'scan'",
     "output_type": "error",
     "traceback": [
      "\u001b[1;31m---------------------------------------------------------------------------\u001b[0m",
      "\u001b[1;31mKeyError\u001b[0m                                  Traceback (most recent call last)",
      "Cell \u001b[1;32mIn[6], line 7\u001b[0m\n\u001b[0;32m      3\u001b[0m nmScan \u001b[39m=\u001b[39m nmap\u001b[39m.\u001b[39mPortScanner()\n\u001b[0;32m      5\u001b[0m \u001b[39m# nmScan.scan('127.0.0.1', '21-443')\u001b[39;00m\n\u001b[0;32m      6\u001b[0m \u001b[39m# nmScan.all_hosts()\u001b[39;00m\n\u001b[1;32m----> 7\u001b[0m nmScan[\u001b[39m'\u001b[39;49m\u001b[39m127.0.0.1\u001b[39;49m\u001b[39m'\u001b[39;49m]\u001b[39m.\u001b[39mhostname()\n",
      "File \u001b[1;32mc:\\Users\\SAURABH\\AppData\\Local\\Programs\\Python\\Python311\\Lib\\site-packages\\nmap\\nmap.py:600\u001b[0m, in \u001b[0;36mPortScanner.__getitem__\u001b[1;34m(self, host)\u001b[0m\n\u001b[0;32m    596\u001b[0m \u001b[39melse\u001b[39;00m:\n\u001b[0;32m    597\u001b[0m     \u001b[39massert\u001b[39;00m (\n\u001b[0;32m    598\u001b[0m         \u001b[39mtype\u001b[39m(host) \u001b[39mis\u001b[39;00m \u001b[39mstr\u001b[39m\n\u001b[0;32m    599\u001b[0m     ), \u001b[39mf\u001b[39m\u001b[39m\"\u001b[39m\u001b[39mWrong type for [host], should be a string [was \u001b[39m\u001b[39m{\u001b[39;00m\u001b[39mtype\u001b[39m(host)\u001b[39m}\u001b[39;00m\u001b[39m]\u001b[39m\u001b[39m\"\u001b[39m\n\u001b[1;32m--> 600\u001b[0m \u001b[39mreturn\u001b[39;00m \u001b[39mself\u001b[39;49m\u001b[39m.\u001b[39;49m_scan_result[\u001b[39m\"\u001b[39;49m\u001b[39mscan\u001b[39;49m\u001b[39m\"\u001b[39;49m][host]\n",
      "\u001b[1;31mKeyError\u001b[0m: 'scan'"
     ]
    }
   ],
   "source": [
    "import nmap\n",
    "\n",
    "nmScan = nmap.PortScanner()\n",
    "\n",
    "# nmScan.scan('127.0.0.1', '21-443')\n",
    "# nmScan.all_hosts()\n",
    "nmScan['127.0.0.1'].hostname()"
   ]
  }
 ],
 "metadata": {
  "kernelspec": {
   "display_name": "Python 3",
   "language": "python",
   "name": "python3"
  },
  "language_info": {
   "codemirror_mode": {
    "name": "ipython",
    "version": 3
   },
   "file_extension": ".py",
   "mimetype": "text/x-python",
   "name": "python",
   "nbconvert_exporter": "python",
   "pygments_lexer": "ipython3",
   "version": "3.11.3"
  },
  "orig_nbformat": 4
 },
 "nbformat": 4,
 "nbformat_minor": 2
}
